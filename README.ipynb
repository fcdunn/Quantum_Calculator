{
 "cells": [
  {
   "cell_type": "markdown",
   "id": "eba99d7c",
   "metadata": {},
   "source": [
    "# Quantum Calculator\n",
    "\n",
    "A simple quantum computing demonstration using Qiskit. This project implements two quantum circuits capable of adding and multiplying integers encoded as qubits, using only CNOT, Toffoli, and P (phase change) gates. One is a \"naive\" version, the other is based on [Draper's construction](https://arxiv.org/pdf/quant-ph/0008033) and makes use of the Quantum Fourier Transform. Some very simple examples are given as demonstration.  "
   ]
  },
  {
   "cell_type": "markdown",
   "id": "6a595fb9",
   "metadata": {},
   "source": [
    "**Requirements**\n",
    "\n",
    "The notebook runs on Python, using:\n",
    "- Qiskit\n",
    "- Numpy\n",
    "- matplotlib and pylatexenc (for circuit drawing)"
   ]
  }
 ],
 "metadata": {
  "kernelspec": {
   "display_name": "Python 3 (ipykernel)",
   "language": "python",
   "name": "python3"
  },
  "language_info": {
   "codemirror_mode": {
    "name": "ipython",
    "version": 3
   },
   "file_extension": ".py",
   "mimetype": "text/x-python",
   "name": "python",
   "nbconvert_exporter": "python",
   "pygments_lexer": "ipython3",
   "version": "3.11.4"
  }
 },
 "nbformat": 4,
 "nbformat_minor": 5
}
